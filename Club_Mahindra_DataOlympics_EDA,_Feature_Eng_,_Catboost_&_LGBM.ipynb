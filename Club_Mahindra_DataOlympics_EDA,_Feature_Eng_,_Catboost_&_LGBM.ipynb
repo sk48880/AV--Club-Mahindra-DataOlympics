{
  "nbformat": 4,
  "nbformat_minor": 0,
  "metadata": {
    "colab": {
      "name": "Club Mahindra DataOlympics: EDA, Feature Eng., Catboost & LGBM.ipynb",
      "version": "0.3.2",
      "provenance": [],
      "collapsed_sections": [],
      "include_colab_link": true
    },
    "kernelspec": {
      "name": "python3",
      "display_name": "Python 3"
    },
    "accelerator": "GPU"
  },
  "cells": [
    {
      "cell_type": "markdown",
      "metadata": {
        "id": "view-in-github",
        "colab_type": "text"
      },
      "source": [
        "<a href=\"https://colab.research.google.com/github/sk48880/AV--Club-Mahindra-DataOlympics/blob/master/Club_Mahindra_DataOlympics_EDA%2C_Feature_Eng_%2C_Catboost_%26_LGBM.ipynb\" target=\"_parent\"><img src=\"https://colab.research.google.com/assets/colab-badge.svg\" alt=\"Open In Colab\"/></a>"
      ]
    },
    {
      "cell_type": "markdown",
      "metadata": {
        "id": "bgljBi83yNGD",
        "colab_type": "text"
      },
      "source": [
        "![iris](https://github.com/sk48880/AV--Club-Mahindra-DataOlympics/blob/master/av%20club%20mahindra.PNG?raw=true)\n",
        "\n",
        "***About Club Mahindra DataOlympics***\n",
        "\n",
        "Club Mahindra presents DataOlympics in association with Analytics Vidhya. DataOlympics reflects the data-driven culture we have in Club Mahindra where we take up the most critical and impactful business challenges and try to solve them using data insights and advanced predictive models. In our journey to become a data-driven decision making organization, we invite you to DataOlympics, our flagship hackathon to identify the best talents in the industry to work on challenging business problems.\n",
        "\n",
        "\n",
        "The top performers will get an opportunity to interview with Data Science team at Club Mahindra. The team has so far developed and successfully deployed wide-range of machine learning and deep learning models like resort recommendations for members, prediction of booking cancellation to improve member experience, lead conversion propensity and many more are in the pipeline. DataOlympics is our endeavour to invite the passionate Data Scientists and Engineers to get a feel of what it looks like solving an RoI driven business problem.Seize this unique opportunity to be part of our team, who do Data Science while they travel & have fun in the world’s best resorts!\n",
        "\n",
        "**About the Company:**\n",
        "\n",
        "Club Mahindra Holidays is the flagship brand of Mahindra Holidays & Resorts India Ltd., (MHRIL) having a rapidly growing customer base and numerous affiliated resorts across the globe. Club Mahindra provides a range of products like Club Mahindra Holidays, Club Mahindra Fundays, Club Mahindra Bliss, Club Mahindra Experience breaks. The core of the brand is creating unforgettable experiences for families on their holiday so that every moment they spend with us, is magical.\n",
        "\n",
        "Persistent Growth – MHRIL has a rapidly growing customer base of over 2.5 Lakh members and 58+ resorts across India\n",
        "\n",
        "1.   **Parentage** – Mahindra Holidays & Resorts India Limited is a part of the USD 20.7 billion multinational Mahindra Group\n",
        "2.   **Distinct Offerings** – With unique experiences for everyone, Club Mahindra is the most preferred holiday resort chain in India\n",
        "3.   **Persistent Growth** – MHRIL has a rapidly growing customer base of over 2.5 Lakh members and 58+ resorts across India\n",
        "\n",
        "**Problem Statement**\n",
        "\n",
        "**Food & Beverages Spend Prediction in Club Mahindra Resorts**\n",
        "\n",
        "Club Mahindra (Club M) makes significant revenue from Food and Beverages (F&B) sales in their resorts. The members of Club M are offered a wide variety of items in either buffet or À la carte form. Following are some benefits that the model to predict the spend by a member in their next visit to a resort will bring:\n",
        "\n",
        "1. Predicting the F&B spend of a member in a resort would help in improving the pre-sales during resort booking through web and mobile app\n",
        "2. Targeted campaigns to suit the member taste and preference of F&B\n",
        "3. Providing members in the resort with a customized experience and offers\n",
        "4. Help resort kitchen to plan the inventory and food quantity to be prepared in advance\n",
        "\n",
        "\n",
        "Given the information related to resort, club member, reservation etc. the task is to predict average spend per room night on food and beverages for the each reservation in the test set.\n",
        "\n",
        "\n",
        "**Data Description**\n",
        "\n",
        "**train.zip**\n",
        "\n",
        "train.zip contains train.csv and data_dictionary.csv.\n",
        "1. train.csv contains the training data with details on a set of reservations with the average spend per room night\n",
        "2. Data_Dictionary.xlsx contains a brief description of each variable provided in the training and test set.\n",
        " \n",
        "**test.csv**\n",
        "\n",
        "test.csv contains details of all reservations for which the participants need to predict the average spend on FnB per room night\n",
        " \n",
        "\n",
        "**sample_submission.csv**\n",
        "\n",
        "sample_submission.csv contains the submission format for the predictions against the test set. A single csv/zip needs to be submitted as a solution.\n",
        " \n",
        "\n",
        "**Evaluation Metric**\n",
        "\n",
        "Submissions are evaluated on 100 * Root Mean Squared Error (RMSE) on the variable \n",
        "\n",
        "# Data Dictionary\n",
        "\n",
        "![iris](https://github.com/sk48880/AV--Club-Mahindra-DataOlympics/blob/master/data%20dictionary.PNG?raw=true)"
      ]
    },
    {
      "cell_type": "markdown",
      "metadata": {
        "id": "g79WJBf35Sym",
        "colab_type": "text"
      },
      "source": [
        "## Authenticating the G-Drive"
      ]
    },
    {
      "cell_type": "code",
      "metadata": {
        "id": "qEC4wwug4vpu",
        "colab_type": "code",
        "colab": {
          "base_uri": "https://localhost:8080/",
          "height": 51
        },
        "outputId": "78e0737b-dac1-4a6c-917b-4d6bea0a692f"
      },
      "source": [
        "# Code to read csv file into Colaboratory:\n",
        "!pip install -U -q PyDrive\n",
        "from pydrive.auth import GoogleAuth\n",
        "from pydrive.drive import GoogleDrive\n",
        "from google.colab import auth\n",
        "from oauth2client.client import GoogleCredentials\n",
        "\n",
        "# Authenticate and create the PyDrive client.\n",
        "auth.authenticate_user()\n",
        "gauth = GoogleAuth()\n",
        "gauth.credentials = GoogleCredentials.get_application_default()\n",
        "drive = GoogleDrive(gauth)"
      ],
      "execution_count": 1,
      "outputs": [
        {
          "output_type": "stream",
          "text": [
            "\u001b[?25l\r\u001b[K     |▎                               | 10kB 21.4MB/s eta 0:00:01\r\u001b[K     |▋                               | 20kB 7.4MB/s eta 0:00:01\r\u001b[K     |█                               | 30kB 10.2MB/s eta 0:00:01\r\u001b[K     |█▎                              | 40kB 6.5MB/s eta 0:00:01\r\u001b[K     |█▋                              | 51kB 7.8MB/s eta 0:00:01\r\u001b[K     |██                              | 61kB 9.1MB/s eta 0:00:01\r\u001b[K     |██▎                             | 71kB 10.4MB/s eta 0:00:01\r\u001b[K     |██▋                             | 81kB 11.6MB/s eta 0:00:01\r\u001b[K     |███                             | 92kB 12.8MB/s eta 0:00:01\r\u001b[K     |███▎                            | 102kB 10.3MB/s eta 0:00:01\r\u001b[K     |███▋                            | 112kB 10.3MB/s eta 0:00:01\r\u001b[K     |████                            | 122kB 10.3MB/s eta 0:00:01\r\u001b[K     |████▎                           | 133kB 10.3MB/s eta 0:00:01\r\u001b[K     |████▋                           | 143kB 10.3MB/s eta 0:00:01\r\u001b[K     |█████                           | 153kB 10.3MB/s eta 0:00:01\r\u001b[K     |█████▎                          | 163kB 10.3MB/s eta 0:00:01\r\u001b[K     |█████▋                          | 174kB 10.3MB/s eta 0:00:01\r\u001b[K     |██████                          | 184kB 10.3MB/s eta 0:00:01\r\u001b[K     |██████▎                         | 194kB 10.3MB/s eta 0:00:01\r\u001b[K     |██████▋                         | 204kB 10.3MB/s eta 0:00:01\r\u001b[K     |███████                         | 215kB 10.3MB/s eta 0:00:01\r\u001b[K     |███████▎                        | 225kB 10.3MB/s eta 0:00:01\r\u001b[K     |███████▋                        | 235kB 10.3MB/s eta 0:00:01\r\u001b[K     |████████                        | 245kB 10.3MB/s eta 0:00:01\r\u001b[K     |████████▎                       | 256kB 10.3MB/s eta 0:00:01\r\u001b[K     |████████▋                       | 266kB 10.3MB/s eta 0:00:01\r\u001b[K     |█████████                       | 276kB 10.3MB/s eta 0:00:01\r\u001b[K     |█████████▎                      | 286kB 10.3MB/s eta 0:00:01\r\u001b[K     |█████████▋                      | 296kB 10.3MB/s eta 0:00:01\r\u001b[K     |██████████                      | 307kB 10.3MB/s eta 0:00:01\r\u001b[K     |██████████▎                     | 317kB 10.3MB/s eta 0:00:01\r\u001b[K     |██████████▋                     | 327kB 10.3MB/s eta 0:00:01\r\u001b[K     |███████████                     | 337kB 10.3MB/s eta 0:00:01\r\u001b[K     |███████████▎                    | 348kB 10.3MB/s eta 0:00:01\r\u001b[K     |███████████▋                    | 358kB 10.3MB/s eta 0:00:01\r\u001b[K     |████████████                    | 368kB 10.3MB/s eta 0:00:01\r\u001b[K     |████████████▎                   | 378kB 10.3MB/s eta 0:00:01\r\u001b[K     |████████████▋                   | 389kB 10.3MB/s eta 0:00:01\r\u001b[K     |█████████████                   | 399kB 10.3MB/s eta 0:00:01\r\u001b[K     |█████████████▎                  | 409kB 10.3MB/s eta 0:00:01\r\u001b[K     |█████████████▋                  | 419kB 10.3MB/s eta 0:00:01\r\u001b[K     |██████████████                  | 430kB 10.3MB/s eta 0:00:01\r\u001b[K     |██████████████▎                 | 440kB 10.3MB/s eta 0:00:01\r\u001b[K     |██████████████▋                 | 450kB 10.3MB/s eta 0:00:01\r\u001b[K     |███████████████                 | 460kB 10.3MB/s eta 0:00:01\r\u001b[K     |███████████████▎                | 471kB 10.3MB/s eta 0:00:01\r\u001b[K     |███████████████▋                | 481kB 10.3MB/s eta 0:00:01\r\u001b[K     |████████████████                | 491kB 10.3MB/s eta 0:00:01\r\u001b[K     |████████████████▎               | 501kB 10.3MB/s eta 0:00:01\r\u001b[K     |████████████████▋               | 512kB 10.3MB/s eta 0:00:01\r\u001b[K     |█████████████████               | 522kB 10.3MB/s eta 0:00:01\r\u001b[K     |█████████████████▎              | 532kB 10.3MB/s eta 0:00:01\r\u001b[K     |█████████████████▋              | 542kB 10.3MB/s eta 0:00:01\r\u001b[K     |██████████████████              | 552kB 10.3MB/s eta 0:00:01\r\u001b[K     |██████████████████▎             | 563kB 10.3MB/s eta 0:00:01\r\u001b[K     |██████████████████▋             | 573kB 10.3MB/s eta 0:00:01\r\u001b[K     |███████████████████             | 583kB 10.3MB/s eta 0:00:01\r\u001b[K     |███████████████████▎            | 593kB 10.3MB/s eta 0:00:01\r\u001b[K     |███████████████████▋            | 604kB 10.3MB/s eta 0:00:01\r\u001b[K     |████████████████████            | 614kB 10.3MB/s eta 0:00:01\r\u001b[K     |████████████████████▎           | 624kB 10.3MB/s eta 0:00:01\r\u001b[K     |████████████████████▋           | 634kB 10.3MB/s eta 0:00:01\r\u001b[K     |█████████████████████           | 645kB 10.3MB/s eta 0:00:01\r\u001b[K     |█████████████████████▎          | 655kB 10.3MB/s eta 0:00:01\r\u001b[K     |█████████████████████▋          | 665kB 10.3MB/s eta 0:00:01\r\u001b[K     |██████████████████████          | 675kB 10.3MB/s eta 0:00:01\r\u001b[K     |██████████████████████▎         | 686kB 10.3MB/s eta 0:00:01\r\u001b[K     |██████████████████████▋         | 696kB 10.3MB/s eta 0:00:01\r\u001b[K     |███████████████████████         | 706kB 10.3MB/s eta 0:00:01\r\u001b[K     |███████████████████████▎        | 716kB 10.3MB/s eta 0:00:01\r\u001b[K     |███████████████████████▋        | 727kB 10.3MB/s eta 0:00:01\r\u001b[K     |████████████████████████        | 737kB 10.3MB/s eta 0:00:01\r\u001b[K     |████████████████████████▎       | 747kB 10.3MB/s eta 0:00:01\r\u001b[K     |████████████████████████▋       | 757kB 10.3MB/s eta 0:00:01\r\u001b[K     |████████████████████████▉       | 768kB 10.3MB/s eta 0:00:01\r\u001b[K     |█████████████████████████▏      | 778kB 10.3MB/s eta 0:00:01\r\u001b[K     |█████████████████████████▌      | 788kB 10.3MB/s eta 0:00:01\r\u001b[K     |█████████████████████████▉      | 798kB 10.3MB/s eta 0:00:01\r\u001b[K     |██████████████████████████▏     | 808kB 10.3MB/s eta 0:00:01\r\u001b[K     |██████████████████████████▌     | 819kB 10.3MB/s eta 0:00:01\r\u001b[K     |██████████████████████████▉     | 829kB 10.3MB/s eta 0:00:01\r\u001b[K     |███████████████████████████▏    | 839kB 10.3MB/s eta 0:00:01\r\u001b[K     |███████████████████████████▌    | 849kB 10.3MB/s eta 0:00:01\r\u001b[K     |███████████████████████████▉    | 860kB 10.3MB/s eta 0:00:01\r\u001b[K     |████████████████████████████▏   | 870kB 10.3MB/s eta 0:00:01\r\u001b[K     |████████████████████████████▌   | 880kB 10.3MB/s eta 0:00:01\r\u001b[K     |████████████████████████████▉   | 890kB 10.3MB/s eta 0:00:01\r\u001b[K     |█████████████████████████████▏  | 901kB 10.3MB/s eta 0:00:01\r\u001b[K     |█████████████████████████████▌  | 911kB 10.3MB/s eta 0:00:01\r\u001b[K     |█████████████████████████████▉  | 921kB 10.3MB/s eta 0:00:01\r\u001b[K     |██████████████████████████████▏ | 931kB 10.3MB/s eta 0:00:01\r\u001b[K     |██████████████████████████████▌ | 942kB 10.3MB/s eta 0:00:01\r\u001b[K     |██████████████████████████████▉ | 952kB 10.3MB/s eta 0:00:01\r\u001b[K     |███████████████████████████████▏| 962kB 10.3MB/s eta 0:00:01\r\u001b[K     |███████████████████████████████▌| 972kB 10.3MB/s eta 0:00:01\r\u001b[K     |███████████████████████████████▉| 983kB 10.3MB/s eta 0:00:01\r\u001b[K     |████████████████████████████████| 993kB 10.3MB/s \n",
            "\u001b[?25h  Building wheel for PyDrive (setup.py) ... \u001b[?25l\u001b[?25hdone\n"
          ],
          "name": "stdout"
        }
      ]
    },
    {
      "cell_type": "markdown",
      "metadata": {
        "id": "9LdxcK6H5JQf",
        "colab_type": "text"
      },
      "source": [
        "## Importing Train and Test files from Google Drive"
      ]
    },
    {
      "cell_type": "code",
      "metadata": {
        "id": "I_lKMnOR5Idn",
        "colab_type": "code",
        "outputId": "d637e929-b8f6-4b67-de63-edcd293443d9",
        "colab": {
          "base_uri": "https://localhost:8080/",
          "height": 68
        }
      },
      "source": [
        "link = 'https://drive.google.com/open?id=1k7CIoWXCqaaFY21I4AiH1A3QF6Y8XjZ-' # The shareable link\n",
        "fluff, id = link.split('=')\n",
        "print (id) # Verify that you have everything after '='\n",
        "downloaded = drive.CreateFile({'id':id}) \n",
        "downloaded.GetContentFile('train.csv')  \n",
        "\n",
        "link = 'https://drive.google.com/open?id=1gURo20n8zG3ks74Ubvbv37jUhKIyYggr' # The shareable link\n",
        "fluff, id = link.split('=')\n",
        "print (id) # Verify that you have everything after '='\n",
        "downloaded = drive.CreateFile({'id':id}) \n",
        "downloaded.GetContentFile('test.csv')  \n",
        "\n",
        "link = 'https://drive.google.com/open?id=1bM_kjdCxCqzResNrDzBcRxTv2rjSvY5w' # The shareable link\n",
        "fluff, id = link.split('=')\n",
        "print (id) # Verify that you have everything after '='\n",
        "downloaded = drive.CreateFile({'id':id}) \n",
        "downloaded.GetContentFile('sample_submission.csv')  "
      ],
      "execution_count": 2,
      "outputs": [
        {
          "output_type": "stream",
          "text": [
            "1k7CIoWXCqaaFY21I4AiH1A3QF6Y8XjZ-\n",
            "1gURo20n8zG3ks74Ubvbv37jUhKIyYggr\n",
            "1bM_kjdCxCqzResNrDzBcRxTv2rjSvY5w\n"
          ],
          "name": "stdout"
        }
      ]
    },
    {
      "cell_type": "markdown",
      "metadata": {
        "id": "rW5iknbP6L0y",
        "colab_type": "text"
      },
      "source": [
        "## Importing important Libraries"
      ]
    },
    {
      "cell_type": "code",
      "metadata": {
        "id": "876BX3h08d1g",
        "colab_type": "code",
        "outputId": "4c550668-5326-4828-db59-9250e2d07d67",
        "colab": {
          "base_uri": "https://localhost:8080/",
          "height": 241
        }
      },
      "source": [
        "!pip install catboost"
      ],
      "execution_count": 3,
      "outputs": [
        {
          "output_type": "stream",
          "text": [
            "Collecting catboost\n",
            "\u001b[?25l  Downloading https://files.pythonhosted.org/packages/2f/c4/f130237b24efd1941cb685da12496675a90045129b66774751f1bf629dfd/catboost-0.14.2-cp36-none-manylinux1_x86_64.whl (60.6MB)\n",
            "\u001b[K     |████████████████████████████████| 60.6MB 443kB/s \n",
            "\u001b[?25hRequirement already satisfied: numpy>=1.11.1 in /usr/local/lib/python3.6/dist-packages (from catboost) (1.16.3)\n",
            "Requirement already satisfied: pandas>=0.19.1 in /usr/local/lib/python3.6/dist-packages (from catboost) (0.24.2)\n",
            "Requirement already satisfied: graphviz in /usr/local/lib/python3.6/dist-packages (from catboost) (0.10.1)\n",
            "Requirement already satisfied: enum34 in /usr/local/lib/python3.6/dist-packages (from catboost) (1.1.6)\n",
            "Requirement already satisfied: six in /usr/local/lib/python3.6/dist-packages (from catboost) (1.12.0)\n",
            "Requirement already satisfied: pytz>=2011k in /usr/local/lib/python3.6/dist-packages (from pandas>=0.19.1->catboost) (2018.9)\n",
            "Requirement already satisfied: python-dateutil>=2.5.0 in /usr/local/lib/python3.6/dist-packages (from pandas>=0.19.1->catboost) (2.5.3)\n",
            "Installing collected packages: catboost\n",
            "Successfully installed catboost-0.14.2\n"
          ],
          "name": "stdout"
        }
      ]
    },
    {
      "cell_type": "code",
      "metadata": {
        "id": "PcwEHs3z47ka",
        "colab_type": "code",
        "outputId": "d57f0a48-f0c3-46b9-9e22-2ba71628942a",
        "colab": {
          "base_uri": "https://localhost:8080/",
          "height": 34
        }
      },
      "source": [
        "import re # regex\n",
        "import numpy as np # linear algebra\n",
        "import pandas as pd # data processing, CSV file I/O (e.g. pd.read_csv)\n",
        "\n",
        "import matplotlib.pyplot as plt\n",
        "import seaborn as sns\n",
        "%matplotlib inline\n",
        "from IPython.display import HTML, display, clear_output\n",
        "import time\n",
        "\n",
        "\n",
        "import warnings\n",
        "warnings.filterwarnings('ignore')\n",
        "warnings.simplefilter(action='ignore', category=FutureWarning)\n",
        "\n",
        "\n",
        "from sklearn.model_selection import train_test_split, KFold, StratifiedKFold, cross_val_score,RandomizedSearchCV\n",
        "from sklearn.feature_selection import RFE, RFECV,VarianceThreshold,f_oneway\n",
        "from sklearn.preprocessing import LabelEncoder, OneHotEncoder, StandardScaler, MinMaxScaler,Normalizer \n",
        "from sklearn.metrics import mean_squared_error, mean_squared_log_error, r2_score\n",
        "from sklearn.linear_model import LinearRegression, Ridge, Lasso, ElasticNet,BayesianRidge,LassoLarsIC\n",
        "from sklearn.ensemble import RandomForestRegressor, GradientBoostingRegressor, AdaBoostRegressor\n",
        "from sklearn.kernel_ridge import KernelRidge\n",
        "from sklearn.pipeline import make_pipeline\n",
        "from sklearn.preprocessing import RobustScaler\n",
        "from sklearn.base import BaseEstimator, TransformerMixin, RegressorMixin, clone\n",
        "\n",
        "\n",
        "from pprint import pprint\n",
        "import math\n",
        "\n",
        "import lightgbm as lgb\n",
        "import xgboost as xgb\n",
        "import catboost\n",
        "from catboost import Pool, CatBoostRegressor,cv\n",
        "from xgboost import XGBRegressor\n",
        "\n",
        "import plotly\n",
        "import plotly.plotly as py\n",
        "import plotly.graph_objs as go\n",
        "from plotly.tools import FigureFactory as FF\n",
        "plotly.tools.set_credentials_file(username='iamsandy0', api_key='syakQHBH4xArn4HtL6An')\n",
        "import scipy\n",
        "\n",
        "import statsmodels\n",
        "import statsmodels.api as sm\n",
        "from statsmodels.formula.api import ols,Logit\n",
        "\n",
        "from datetime import datetime\n",
        "from dateutil.relativedelta import relativedelta\n",
        "import os\n",
        "print(os.listdir(\"/content/\"))"
      ],
      "execution_count": 4,
      "outputs": [
        {
          "output_type": "stream",
          "text": [
            "['.config', 'adc.json', 'sample_submission.csv', 'test.csv', 'train.csv', 'sample_data']\n"
          ],
          "name": "stdout"
        }
      ]
    },
    {
      "cell_type": "markdown",
      "metadata": {
        "id": "DmVwV8VC6Tsh",
        "colab_type": "text"
      },
      "source": [
        "## Import Data"
      ]
    },
    {
      "cell_type": "code",
      "metadata": {
        "id": "wKma5bCO6XoT",
        "colab_type": "code",
        "outputId": "d566d715-95bb-4cee-d1f0-f057752ce491",
        "colab": {
          "base_uri": "https://localhost:8080/",
          "height": 51
        }
      },
      "source": [
        "%%time\n",
        "train = pd.read_csv('/content/train.csv')\n",
        "test = pd.read_csv('/content/test.csv')\n",
        "sub = pd.read_csv('/content/sample_submission.csv')\n"
      ],
      "execution_count": 5,
      "outputs": [
        {
          "output_type": "stream",
          "text": [
            "CPU times: user 2.31 s, sys: 146 ms, total: 2.46 s\n",
            "Wall time: 2.47 s\n"
          ],
          "name": "stdout"
        }
      ]
    },
    {
      "cell_type": "markdown",
      "metadata": {
        "id": "5p6Z2ixb1Lro",
        "colab_type": "text"
      },
      "source": [
        "## Data Cleaning"
      ]
    },
    {
      "cell_type": "code",
      "metadata": {
        "id": "XrgZj9NJFwh4",
        "colab_type": "code",
        "colab": {}
      },
      "source": [
        "## Date formatting\n",
        "\n",
        "train['booking_date'] = pd.to_datetime(train['booking_date'], format = '%d/%m/%y')\n",
        "test['booking_date'] = pd.to_datetime(test['booking_date'], format = '%d/%m/%y')\n",
        "\n",
        "train['checkin_date'] = pd.to_datetime(train['checkin_date'], format = '%d/%m/%y')\n",
        "test['checkin_date'] = pd.to_datetime(test['checkin_date'], format = '%d/%m/%y')\n",
        "\n",
        "train['checkout_date'] = pd.to_datetime(train['checkout_date'], format = '%d/%m/%y')\n",
        "test['checkout_date'] = pd.to_datetime(test['checkout_date'], format = '%d/%m/%y')\n",
        "\n",
        "train_index = list(train[train.checkin_date.dt.year ==2012].index)\n",
        "\n",
        "\n",
        "### changing the checkin date from 2012 to 2018\n",
        "\n",
        "for i in train_index:\n",
        "  train['checkin_date'][i] = train['checkin_date'][i] + relativedelta(years=6)\n",
        "  \n",
        "\n",
        "for i in train_index:\n",
        "  train['checkout_date'][i] = train['checkout_date'][i] + relativedelta(years=6)\n",
        "  \n",
        "\n",
        "  test_index = list(test[test.checkin_date.dt.year ==2012].index)\n",
        "\n",
        "for i in test_index:\n",
        "  test['checkin_date'][i] = test['checkin_date'][i] + relativedelta(years=6)\n",
        "  \n",
        "\n",
        "for i in test_index:\n",
        "  test['checkout_date'][i] = test['checkout_date'][i] + relativedelta(years=6)\n",
        "  "
      ],
      "execution_count": 0,
      "outputs": []
    },
    {
      "cell_type": "code",
      "metadata": {
        "id": "r4yWKdIkPeRZ",
        "colab_type": "code",
        "colab": {}
      },
      "source": [
        "## There was one record where room nights was -45, changing the record to 7 as per difference between checkin and checkout date\n",
        "\n",
        "train.loc[train.roomnights <0, 'roomnights'] = 7 \n",
        "\n",
        "##There is only one record in train which had reservationstatusid_code as D\n",
        "\n",
        "ind = train[train.reservationstatusid_code == 'D'].index\n",
        "train.drop(index = ind, axis =0, inplace = True)\n",
        "train = train.reset_index(drop = True)"
      ],
      "execution_count": 0,
      "outputs": []
    },
    {
      "cell_type": "markdown",
      "metadata": {
        "id": "At1kyO5H2nwa",
        "colab_type": "text"
      },
      "source": [
        "### Missing Value Treatment\n",
        "\n",
        "1. Imputed the numbers with mode of respective columns"
      ]
    },
    {
      "cell_type": "code",
      "metadata": {
        "id": "NmwrHZ0v2jmE",
        "colab_type": "code",
        "colab": {}
      },
      "source": [
        "## filling the missing values with 0 (state unknown)\n",
        "train['state_code_residence'].fillna(value =8.0, inplace = True)\n",
        "test['state_code_residence'].fillna(value =8.0, inplace = True)\n",
        "\n",
        "## filling the missing values with 0 \n",
        "train['season_holidayed_code'].fillna(value =2.0, inplace = True)\n",
        "test['season_holidayed_code'].fillna(value =2.0, inplace = True)"
      ],
      "execution_count": 0,
      "outputs": []
    },
    {
      "cell_type": "markdown",
      "metadata": {
        "id": "JKqmNpPi7p9G",
        "colab_type": "text"
      },
      "source": [
        "## Plotting & Charting"
      ]
    },
    {
      "cell_type": "code",
      "metadata": {
        "id": "faytNTAjF9kj",
        "colab_type": "code",
        "colab": {
          "base_uri": "https://localhost:8080/",
          "height": 1026
        },
        "outputId": "062e65aa-cecb-4ed5-de01-0a611e0be77d"
      },
      "source": [
        "plt.figure(figsize = (16,16))\n",
        "corr_mat = train.corr()\n",
        "sns.heatmap(corr_mat, annot = True,square= True,cmap='Spectral_r')\n",
        "plt.show()"
      ],
      "execution_count": 9,
      "outputs": [
        {
          "output_type": "display_data",
          "data": {
            "image/png": "[encoded data removed]",
            "text/plain": [
              "<Figure size 1152x1152 with 2 Axes>"
            ]
          },
          "metadata": {
            "tags": []
          }
        }
      ]
    },
    {
      "cell_type": "code",
      "metadata": {
        "id": "2fDZLB78PzRj",
        "colab_type": "code",
        "colab": {
          "base_uri": "https://localhost:8080/",
          "height": 583
        },
        "outputId": "c4cab9f8-10f5-4639-da6a-eedbf8bcc939"
      },
      "source": [
        "avg_spend = train.groupby(by = 'checkin_date').mean()['amount_spent_per_room_night_scaled'].reset_index()\n",
        "\n",
        "data = [go.Scatter(x = avg_spend.checkin_date, y=avg_spend.amount_spent_per_room_night_scaled)]\n",
        "\n",
        "py.iplot(data, filename = 'time-series-simple')"
      ],
      "execution_count": 10,
      "outputs": [
        {
          "output_type": "stream",
          "text": [
            "High five! You successfully sent some data to your account on plotly. View your plot in your browser at https://plot.ly/~iamsandy0/0 or inside your plot.ly account where it is named 'time-series-simple'\n"
          ],
          "name": "stdout"
        },
        {
          "output_type": "execute_result",
          "data": {
            "text/html": [
              "<iframe id=\"igraph\" scrolling=\"no\" style=\"border:none;\" seamless=\"seamless\" src=\"https://plot.ly/~iamsandy0/0.embed\" height=\"525px\" width=\"100%\"></iframe>"
            ],
            "text/plain": [
              "<plotly.tools.PlotlyDisplay object>"
            ]
          },
          "metadata": {
            "tags": []
          },
          "execution_count": 10
        }
      ]
    },
    {
      "cell_type": "code",
      "metadata": {
        "id": "fMoRjYRXUHbW",
        "colab_type": "code",
        "colab": {
          "base_uri": "https://localhost:8080/",
          "height": 546
        },
        "outputId": "40e6c31e-2934-427f-cb82-64b0316df828"
      },
      "source": [
        "no_booking = train.groupby(by = 'checkin_date').count()['reservation_id'].reset_index()\n",
        "\n",
        "data = [go.Scatter(x = no_booking.checkin_date, y=no_booking.reservation_id)]\n",
        "\n",
        "py.iplot(data, filename = 'No. of Booking')"
      ],
      "execution_count": 11,
      "outputs": [
        {
          "output_type": "execute_result",
          "data": {
            "text/html": [
              "<iframe id=\"igraph\" scrolling=\"no\" style=\"border:none;\" seamless=\"seamless\" src=\"https://plot.ly/~iamsandy0/2.embed\" height=\"525px\" width=\"100%\"></iframe>"
            ],
            "text/plain": [
              "<plotly.tools.PlotlyDisplay object>"
            ]
          },
          "metadata": {
            "tags": []
          },
          "execution_count": 11
        }
      ]
    },
    {
      "cell_type": "markdown",
      "metadata": {
        "id": "gT503gzwZGNX",
        "colab_type": "text"
      },
      "source": [
        "## Feature Enginnering"
      ]
    },
    {
      "cell_type": "code",
      "metadata": {
        "id": "FNf7XzjYvAz2",
        "colab_type": "code",
        "colab": {}
      },
      "source": [
        "## Date features for Booking date\n",
        "\n",
        "train['booking_year'] = train['booking_date'].dt.year\n",
        "train['booking_month'] = train['booking_date'].dt.month\n",
        "train['booking_Week'] = train['booking_date'].dt.week\n",
        "train['booking_Day'] = train['booking_date'].dt.day\n",
        "train['booking_weeknum'] = train['booking_date'].dt.weekofyear\n",
        "train['booking_dayofweek'] = train['booking_date'].dt.dayofweek\n",
        "train['booking_Dayofyear'] = train['booking_date'].dt.dayofyear\n",
        "\n",
        "test['booking_year'] = test['booking_date'].dt.year\n",
        "test['booking_month'] = test['booking_date'].dt.month\n",
        "test['booking_Week'] = test['booking_date'].dt.week\n",
        "test['booking_Day'] = test['booking_date'].dt.day\n",
        "test['booking_weeknum'] = test['booking_date'].dt.weekofyear\n",
        "test['booking_dayofweek'] = test['booking_date'].dt.dayofweek\n",
        "test['booking_Dayofyear'] = test['booking_date'].dt.dayofyear"
      ],
      "execution_count": 0,
      "outputs": []
    },
    {
      "cell_type": "code",
      "metadata": {
        "id": "rbf86oU4vPyg",
        "colab_type": "code",
        "colab": {}
      },
      "source": [
        "## Total person travelling as sum of adult count and children count\n",
        "\n",
        "train['total_nbr_ppl'] = train['numberofadults'] + train['numberofchildren']\n",
        "test['total_nbr_ppl'] = test['numberofadults'] + test['numberofchildren']"
      ],
      "execution_count": 0,
      "outputs": []
    },
    {
      "cell_type": "code",
      "metadata": {
        "id": "T_MJ3GchXQ_a",
        "colab_type": "code",
        "colab": {}
      },
      "source": [
        "\n",
        "## Date difference features between checkin and checkout date\n",
        "\n",
        "train['prior_booking'] = (train['checkin_date'] - train['booking_date']).dt.days\n",
        "test['prior_booking'] = (test['checkin_date'] - test['booking_date']).dt.days\n",
        "\n",
        "train['length_of_stay'] = (train['checkout_date'] - train['checkin_date']).dt.days \n",
        "test['length_of_stay'] = (test['checkout_date'] - test['checkin_date']).dt.days\n",
        "\n",
        "train['prior_booking_week'] = ((train['checkin_date'] - train['booking_date']).dt.days)/7\n",
        "train['prior_booking_week'] = train['prior_booking_week'].apply(lambda x: math.ceil(x))\n",
        "\n",
        "test['prior_booking_week'] = ((test['checkin_date'] - test['booking_date']).dt.days)/7\n",
        "test['prior_booking_week'] = test['prior_booking_week'].apply(lambda x: math.ceil(x))\n",
        "\n",
        "\n",
        "train['prior_booking_month'] = ((train['checkin_date'] - train['booking_date']).dt.days)/30\n",
        "train['prior_booking_month'] = train['prior_booking_month'].apply(lambda x: math.ceil(x))\n",
        "\n",
        "test['prior_booking_month'] = ((test['checkin_date'] - test['booking_date']).dt.days)/30\n",
        "test['prior_booking_month'] = test['prior_booking_month'].apply(lambda x: math.ceil(x))"
      ],
      "execution_count": 0,
      "outputs": []
    },
    {
      "cell_type": "code",
      "metadata": {
        "id": "SXzpapiivisO",
        "colab_type": "code",
        "colab": {}
      },
      "source": [
        "## Date features for checkin date\n",
        "\n",
        "train['checking_year'] = train['checkin_date'].dt.year\n",
        "test['checking_year'] = test['checkin_date'].dt.year\n",
        "\n",
        "train['checking_month'] = train['checkin_date'].dt.month\n",
        "test['checking_month'] = test['checkin_date'].dt.month\n",
        "\n",
        "train['checking_day'] = train['checkin_date'].dt.day\n",
        "test['checking_day'] = test['checkin_date'].dt.day\n",
        "\n",
        "train['checking_weekday'] = train['checkin_date'].dt.weekday_name\n",
        "test['checking_weekday'] = test['checkin_date'].dt.weekday_name\n",
        "\n",
        "train['is_year_end_checkin'] = train['checkin_date'].dt.is_year_end\n",
        "test['is_year_end_checkin'] = test['checkin_date'].dt.is_year_end\n",
        "\n",
        "\n",
        "train['is_year_start_checkin'] = train['checkin_date'].dt.is_year_start\n",
        "test['is_year_start_checkin'] = test['checkin_date'].dt.is_year_start\n",
        "\n",
        "\n",
        "train['is_month_end_checkin'] = train['checkin_date'].dt.is_month_end\n",
        "test['is_month_end_checkin'] = test['checkin_date'].dt.is_month_end\n",
        "\n",
        "\n",
        "train['is_month_start_checkin'] = train['checkin_date'].dt.is_month_start\n",
        "test['is_month_start_checkin'] = test['checkin_date'].dt.is_month_start\n",
        "\n",
        "## imputing the rows where we have issues in prior booking with median prior booking day of 33 days\n",
        "\n",
        "train.loc[train.prior_booking <0, 'prior_booking'] = 33"
      ],
      "execution_count": 0,
      "outputs": []
    },
    {
      "cell_type": "markdown",
      "metadata": {
        "id": "AkWtxGhdvv9T",
        "colab_type": "text"
      },
      "source": [
        "#### Created feature for memberid\n",
        "\n",
        "1. Total no. of booking \n",
        "2. Total days of stay\n",
        "3. Avg days of stay\n",
        "4. Avg no. of person who stays"
      ]
    },
    {
      "cell_type": "code",
      "metadata": {
        "id": "IWy0jpz69Hcw",
        "colab_type": "code",
        "colab": {}
      },
      "source": [
        "nbr_booking_train = train.groupby(by = 'memberid').count()[['reservation_id']].reset_index()\n",
        "nbr_booking_train.columns = ['memberid','nbr_booking']\n",
        "\n",
        "train = train.merge(nbr_booking_train, on= 'memberid')\n",
        "\n",
        "nbr_booking_test = test.groupby(by = 'memberid').count()[['reservation_id']].reset_index()\n",
        "nbr_booking_test.columns = ['memberid','nbr_booking']\n",
        "\n",
        "test = test.merge(nbr_booking_test, on= 'memberid')\n",
        "\n",
        "nbr_booking_train = train.groupby(by = 'memberid').sum()[['length_of_stay']].reset_index()\n",
        "nbr_booking_train.columns = ['memberid','total_stay_days']\n",
        "\n",
        "train = train.merge(nbr_booking_train, on= 'memberid')\n",
        "\n",
        "nbr_booking_test = test.groupby(by = 'memberid').sum()[['length_of_stay']].reset_index()\n",
        "nbr_booking_test.columns = ['memberid','total_stay_days']\n",
        "\n",
        "test = test.merge(nbr_booking_test, on= 'memberid')\n",
        "\n",
        "\n",
        "nbr_booking_train = train.groupby(by = 'memberid').mean()[['length_of_stay']].reset_index()\n",
        "nbr_booking_train.columns = ['memberid','avg_stay_days']\n",
        "\n",
        "train = train.merge(nbr_booking_train, on= 'memberid')\n",
        "\n",
        "nbr_booking_test = test.groupby(by = 'memberid').mean()[['length_of_stay']].reset_index()\n",
        "nbr_booking_test.columns = ['memberid','avg_stay_days']\n",
        "\n",
        "test = test.merge(nbr_booking_test, on= 'memberid')\n",
        "\n",
        "\n",
        "nbr_booking_train = train.groupby(by = 'memberid').mean()[['numberofadults']].reset_index()\n",
        "nbr_booking_train.columns = ['memberid','avg_numberofadults']\n",
        "\n",
        "train = train.merge(nbr_booking_train, on= 'memberid')\n",
        "\n",
        "nbr_booking_test = test.groupby(by = 'memberid').mean()[['numberofadults']].reset_index()\n",
        "nbr_booking_test.columns = ['memberid','avg_numberofadults']\n",
        "\n",
        "test = test.merge(nbr_booking_test, on= 'memberid')\n",
        "\n",
        "\n",
        "\n",
        "nbr_booking_train = train.groupby(by = 'memberid').mean()[['total_nbr_ppl']].reset_index()\n",
        "nbr_booking_train.columns = ['memberid','avg_total_nbr_ppl']\n",
        "\n",
        "train = train.merge(nbr_booking_train, on= 'memberid')\n",
        "\n",
        "nbr_booking_test = test.groupby(by = 'memberid').mean()[['total_nbr_ppl']].reset_index()\n",
        "nbr_booking_test.columns = ['memberid','avg_total_nbr_ppl']\n",
        "\n",
        "test = test.merge(nbr_booking_test, on= 'memberid')"
      ],
      "execution_count": 0,
      "outputs": []
    },
    {
      "cell_type": "code",
      "metadata": {
        "id": "ByUBElEcNEUS",
        "colab_type": "code",
        "colab": {}
      },
      "source": [
        "## delete reservation id columns\n",
        "\n",
        "train.drop(columns='reservation_id', axis =1, inplace= True)\n",
        "test.drop(columns='reservation_id', axis =1, inplace= True)\n",
        "\n",
        "## delete date columns\n",
        "\n",
        "train.drop(columns=['booking_date','checkin_date','checkout_date'], axis =1, inplace= True)\n",
        "test.drop(columns=['booking_date','checkin_date','checkout_date'], axis =1, inplace= True)\n",
        "\n",
        "## delete member id columns\n",
        "\n",
        "train.drop(columns='memberid', axis =1, inplace= True)\n",
        "test.drop(columns='memberid', axis =1, inplace= True)"
      ],
      "execution_count": 0,
      "outputs": []
    },
    {
      "cell_type": "code",
      "metadata": {
        "id": "JyIJpPNLbMam",
        "colab_type": "code",
        "outputId": "97611053-b460-4bbd-9f0b-c2927b5e2d42",
        "colab": {
          "base_uri": "https://localhost:8080/",
          "height": 289
        }
      },
      "source": [
        "train.columns.values"
      ],
      "execution_count": 18,
      "outputs": [
        {
          "output_type": "execute_result",
          "data": {
            "text/plain": [
              "array(['channel_code', 'main_product_code', 'numberofadults',\n",
              "       'numberofchildren', 'persontravellingid', 'resort_region_code',\n",
              "       'resort_type_code', 'room_type_booked_code', 'roomnights',\n",
              "       'season_holidayed_code', 'state_code_residence',\n",
              "       'state_code_resort', 'total_pax', 'member_age_buckets',\n",
              "       'booking_type_code', 'cluster_code', 'reservationstatusid_code',\n",
              "       'resort_id', 'amount_spent_per_room_night_scaled', 'booking_year',\n",
              "       'booking_month', 'booking_Week', 'booking_Day', 'booking_weeknum',\n",
              "       'booking_dayofweek', 'booking_Dayofyear', 'total_nbr_ppl',\n",
              "       'prior_booking', 'length_of_stay', 'prior_booking_week',\n",
              "       'prior_booking_month', 'checking_year', 'checking_month',\n",
              "       'checking_day', 'checking_weekday', 'is_year_end_checkin',\n",
              "       'is_year_start_checkin', 'is_month_end_checkin',\n",
              "       'is_month_start_checkin', 'nbr_booking', 'total_stay_days',\n",
              "       'avg_stay_days', 'avg_numberofadults', 'avg_total_nbr_ppl'],\n",
              "      dtype=object)"
            ]
          },
          "metadata": {
            "tags": []
          },
          "execution_count": 18
        }
      ]
    },
    {
      "cell_type": "code",
      "metadata": {
        "id": "L4UpkpDNwY6_",
        "colab_type": "code",
        "colab": {}
      },
      "source": [
        "## Created data for baseline linear model\n",
        "\n",
        "df_train = pd.get_dummies(train)\n",
        "df_test = pd.get_dummies(test)"
      ],
      "execution_count": 0,
      "outputs": []
    },
    {
      "cell_type": "code",
      "metadata": {
        "id": "vD7QebD8Rzxi",
        "colab_type": "code",
        "colab": {}
      },
      "source": [
        "## Listing out categorical columns\n",
        "\n",
        "categ_column = ['channel_code','main_product_code','persontravellingid','resort_region_code','resort_type_code','room_type_booked_code',\n",
        "                'season_holidayed_code','cluster_code','reservationstatusid_code','resort_id','state_code_residence','state_code_resort',\n",
        "                'member_age_buckets','booking_type_code','booking_year','booking_month', 'booking_Week', 'booking_Day', 'booking_weeknum',\n",
        "                'booking_dayofweek', 'booking_Dayofyear', 'total_nbr_ppl','prior_booking', 'length_of_stay', 'checking_year',\n",
        "                'checking_month', 'checking_day', 'checking_weekday','is_year_end_checkin', 'is_year_start_checkin',\n",
        "                'is_month_end_checkin', 'is_month_start_checkin','prior_booking_week', 'prior_booking_month']\n"
      ],
      "execution_count": 0,
      "outputs": []
    },
    {
      "cell_type": "code",
      "metadata": {
        "id": "MDStKt6oZVcs",
        "colab_type": "code",
        "colab": {}
      },
      "source": [
        "## Converted the categ columns to object data type for Catboost regressor\n",
        "\n",
        "for i in categ_column:\n",
        "  train[i] = train[i].astype('object')\n",
        "  test[i] = test[i].astype('object')"
      ],
      "execution_count": 0,
      "outputs": []
    },
    {
      "cell_type": "markdown",
      "metadata": {
        "id": "u4o9DFlkxas3",
        "colab_type": "text"
      },
      "source": [
        "# Modelling"
      ]
    },
    {
      "cell_type": "markdown",
      "metadata": {
        "id": "Y3fiVygIRqBu",
        "colab_type": "text"
      },
      "source": [
        "## Linear Baseline"
      ]
    },
    {
      "cell_type": "code",
      "metadata": {
        "id": "cqKd7CLWZlzh",
        "colab_type": "code",
        "outputId": "d463eb7e-8d5f-44e8-c3ef-5ef3f8a18d1d",
        "colab": {
          "base_uri": "https://localhost:8080/",
          "height": 51
        }
      },
      "source": [
        "print('Shape of train date', df_train.shape)\n",
        "print('Shape of test date', df_test.shape)"
      ],
      "execution_count": 20,
      "outputs": [
        {
          "output_type": "stream",
          "text": [
            "Shape of train date (341423, 97)\n",
            "Shape of test date (146765, 96)\n"
          ],
          "name": "stdout"
        }
      ]
    },
    {
      "cell_type": "code",
      "metadata": {
        "id": "5rkmj-YCZDYU",
        "colab_type": "code",
        "colab": {}
      },
      "source": [
        "#Validation function\n",
        "n_folds = 5\n",
        "\n",
        "def rmsle_cv(model):\n",
        "    kf = KFold(n_folds, shuffle=True, random_state=42).get_n_splits(train.values)\n",
        "    rmse= np.sqrt(-cross_val_score(model, df_train.drop('amount_spent_per_room_night_scaled', axis =1).values, df_train.amount_spent_per_room_night_scaled, scoring=\"neg_mean_squared_error\", cv = kf))\n",
        "    return(rmse)"
      ],
      "execution_count": 0,
      "outputs": []
    },
    {
      "cell_type": "markdown",
      "metadata": {
        "id": "ylphiucBwxl1",
        "colab_type": "text"
      },
      "source": [
        "### Lasso Regression"
      ]
    },
    {
      "cell_type": "code",
      "metadata": {
        "id": "Pdclm1BeZDr2",
        "colab_type": "code",
        "outputId": "2266dc10-9357-4fd6-e2ad-981630d9640f",
        "colab": {
          "base_uri": "https://localhost:8080/",
          "height": 68
        }
      },
      "source": [
        "lasso = make_pipeline(RobustScaler(), Lasso(alpha =0.0005, random_state=1))\n",
        "score = rmsle_cv(lasso)\n",
        "print(\"\\nLasso score: {:.4f} ({:.4f})\\n\".format(score.mean(), score.std()))"
      ],
      "execution_count": 24,
      "outputs": [
        {
          "output_type": "stream",
          "text": [
            "\n",
            "Lasso score: 1.0045 (0.0317)\n",
            "\n"
          ],
          "name": "stdout"
        }
      ]
    },
    {
      "cell_type": "code",
      "metadata": {
        "id": "N3-f1h3tfHW2",
        "colab_type": "code",
        "colab": {}
      },
      "source": [
        "def rmsle(y, y_pred):\n",
        "    return np.sqrt(mean_squared_error(y, y_pred))"
      ],
      "execution_count": 0,
      "outputs": []
    },
    {
      "cell_type": "code",
      "metadata": {
        "id": "RfvjJFZ4SCS0",
        "colab_type": "code",
        "colab": {
          "base_uri": "https://localhost:8080/",
          "height": 34
        },
        "outputId": "d36fb503-f201-46fd-823a-09a667864e0e"
      },
      "source": [
        "lasso.fit(df_train.drop('amount_spent_per_room_night_scaled', axis =1).values, df_train.amount_spent_per_room_night_scaled)\n",
        "lasso_train_pred = lasso.predict(df_train.drop('amount_spent_per_room_night_scaled', axis =1).values)\n",
        "lasso_pred = lasso.predict(df_test.values)\n",
        "print(rmsle(df_train.amount_spent_per_room_night_scaled, lasso_train_pred))"
      ],
      "execution_count": 26,
      "outputs": [
        {
          "output_type": "stream",
          "text": [
            "1.004254850428798\n"
          ],
          "name": "stdout"
        }
      ]
    },
    {
      "cell_type": "code",
      "metadata": {
        "id": "bZKJCQN_qbq8",
        "colab_type": "code",
        "colab": {
          "base_uri": "https://localhost:8080/",
          "height": 204
        },
        "outputId": "296d1816-b95b-43b6-d4f4-e61a4f8920ff"
      },
      "source": [
        "sub_lasso = sub.copy()\n",
        "sub_lasso['amount_spent_per_room_night_scaled'] = lasso_pred\n",
        "sub_lasso.to_csv('catboost_pred.csv', index = False)\n",
        "sub_lasso.head()"
      ],
      "execution_count": 27,
      "outputs": [
        {
          "output_type": "execute_result",
          "data": {
            "text/html": [
              "<div>\n",
              "<style scoped>\n",
              "    .dataframe tbody tr th:only-of-type {\n",
              "        vertical-align: middle;\n",
              "    }\n",
              "\n",
              "    .dataframe tbody tr th {\n",
              "        vertical-align: top;\n",
              "    }\n",
              "\n",
              "    .dataframe thead th {\n",
              "        text-align: right;\n",
              "    }\n",
              "</style>\n",
              "<table border=\"1\" class=\"dataframe\">\n",
              "  <thead>\n",
              "    <tr style=\"text-align: right;\">\n",
              "      <th></th>\n",
              "      <th>reservation_id</th>\n",
              "      <th>amount_spent_per_room_night_scaled</th>\n",
              "    </tr>\n",
              "  </thead>\n",
              "  <tbody>\n",
              "    <tr>\n",
              "      <th>0</th>\n",
              "      <td>7dae1ce6bc8f69481328f2be5c4943077dad5598b5f66d...</td>\n",
              "      <td>7.914781</td>\n",
              "    </tr>\n",
              "    <tr>\n",
              "      <th>1</th>\n",
              "      <td>fe0d4e444e1818436c88f72f1cf800536c2f785e59baeb...</td>\n",
              "      <td>7.164185</td>\n",
              "    </tr>\n",
              "    <tr>\n",
              "      <th>2</th>\n",
              "      <td>540bd4285ad8168e8388f84ee74a82cd4f97dc0a404d3e...</td>\n",
              "      <td>7.394305</td>\n",
              "    </tr>\n",
              "    <tr>\n",
              "      <th>3</th>\n",
              "      <td>09593c907ae262e46f655b4db9e14f54a19eadcfdd2679...</td>\n",
              "      <td>7.719569</td>\n",
              "    </tr>\n",
              "    <tr>\n",
              "      <th>4</th>\n",
              "      <td>f4c50caac68051faf37551d70bb17eebef2a20e2244cb1...</td>\n",
              "      <td>7.588560</td>\n",
              "    </tr>\n",
              "  </tbody>\n",
              "</table>\n",
              "</div>"
            ],
            "text/plain": [
              "                                      reservation_id  \\\n",
              "0  7dae1ce6bc8f69481328f2be5c4943077dad5598b5f66d...   \n",
              "1  fe0d4e444e1818436c88f72f1cf800536c2f785e59baeb...   \n",
              "2  540bd4285ad8168e8388f84ee74a82cd4f97dc0a404d3e...   \n",
              "3  09593c907ae262e46f655b4db9e14f54a19eadcfdd2679...   \n",
              "4  f4c50caac68051faf37551d70bb17eebef2a20e2244cb1...   \n",
              "\n",
              "   amount_spent_per_room_night_scaled  \n",
              "0                            7.914781  \n",
              "1                            7.164185  \n",
              "2                            7.394305  \n",
              "3                            7.719569  \n",
              "4                            7.588560  "
            ]
          },
          "metadata": {
            "tags": []
          },
          "execution_count": 27
        }
      ]
    },
    {
      "cell_type": "markdown",
      "metadata": {
        "id": "lvJtBWKBxKAf",
        "colab_type": "text"
      },
      "source": [
        "#### Public LB  Score: ~99.5 (Top 55% on Public LB)"
      ]
    },
    {
      "cell_type": "markdown",
      "metadata": {
        "id": "b6y6cFQibGkf",
        "colab_type": "text"
      },
      "source": [
        "## Modelling - Catboost Regressor"
      ]
    },
    {
      "cell_type": "code",
      "metadata": {
        "id": "lcmw9vXabBXb",
        "colab_type": "code",
        "colab": {}
      },
      "source": [
        "x_train,x_test,y_train,y_test = train_test_split(train.drop('amount_spent_per_room_night_scaled',1),train.amount_spent_per_room_night_scaled, test_size = 0.2,\n",
        "                                                random_state = 320)"
      ],
      "execution_count": 0,
      "outputs": []
    },
    {
      "cell_type": "code",
      "metadata": {
        "id": "bUycUqJLb741",
        "colab_type": "code",
        "colab": {}
      },
      "source": [
        "_train = Pool(x_train, label=y_train,cat_features= categ_column)\n",
        "_valid = Pool(x_test, label=y_test,cat_features= categ_column)"
      ],
      "execution_count": 0,
      "outputs": []
    },
    {
      "cell_type": "code",
      "metadata": {
        "id": "kwZ7Vlq_cd-D",
        "colab_type": "code",
        "colab": {}
      },
      "source": [
        "model = CatBoostRegressor(\n",
        "                          learning_rate=0.02,\n",
        "                          subsample = 0.9,\n",
        "                          l2_leaf_reg = 10,\n",
        "                          max_depth=7,\n",
        "                          iterations=25000, \n",
        "                          loss_function='RMSE',\n",
        "                          task_type = 'GPU',\n",
        "                          bootstrap_type= 'Bernoulli',\n",
        "                          min_data_in_leaf\t= 100,\n",
        "                          random_seed = 42\n",
        "                          ) "
      ],
      "execution_count": 0,
      "outputs": []
    },
    {
      "cell_type": "code",
      "metadata": {
        "id": "uAhOglXAcgDo",
        "colab_type": "code",
        "outputId": "00943fc8-cc63-43f4-db35-9f7f947797c2",
        "colab": {
          "base_uri": "https://localhost:8080/",
          "height": 323
        }
      },
      "source": [
        "fit_model = model.fit(_train,verbose_eval=1000, early_stopping_rounds=500,\n",
        "                      eval_set=[_valid],use_best_model=True,plot=False)"
      ],
      "execution_count": 0,
      "outputs": [
        {
          "output_type": "stream",
          "text": [
            "0:\tlearn: 7.6426048\ttest: 7.6521835\tbest: 7.6521835 (0)\ttotal: 102ms\tremaining: 42m 19s\n",
            "1000:\tlearn: 0.9707994\ttest: 0.9719626\tbest: 0.9719626 (1000)\ttotal: 1m 19s\tremaining: 31m 35s\n",
            "2000:\tlearn: 0.9618595\ttest: 0.9697957\tbest: 0.9697955 (1999)\ttotal: 2m 33s\tremaining: 29m 23s\n",
            "3000:\tlearn: 0.9555775\ttest: 0.9686971\tbest: 0.9686959 (2999)\ttotal: 3m 47s\tremaining: 27m 44s\n",
            "4000:\tlearn: 0.9501153\ttest: 0.9680375\tbest: 0.9680361 (3989)\ttotal: 5m 1s\tremaining: 26m 20s\n",
            "5000:\tlearn: 0.9447461\ttest: 0.9675977\tbest: 0.9675949 (4982)\ttotal: 6m 13s\tremaining: 24m 51s\n",
            "6000:\tlearn: 0.9394888\ttest: 0.9672508\tbest: 0.9672508 (6000)\ttotal: 7m 24s\tremaining: 23m 27s\n",
            "7000:\tlearn: 0.9344066\ttest: 0.9669349\tbest: 0.9669332 (6995)\ttotal: 8m 36s\tremaining: 22m 6s\n",
            "8000:\tlearn: 0.9295537\ttest: 0.9667715\tbest: 0.9667655 (7986)\ttotal: 9m 49s\tremaining: 20m 52s\n",
            "9000:\tlearn: 0.9245665\ttest: 0.9665764\tbest: 0.9665552 (8800)\ttotal: 11m\tremaining: 19m 34s\n",
            "10000:\tlearn: 0.9197231\ttest: 0.9663992\tbest: 0.9663904 (9870)\ttotal: 12m 12s\tremaining: 18m 18s\n",
            "11000:\tlearn: 0.9148722\ttest: 0.9662139\tbest: 0.9662051 (10981)\ttotal: 13m 24s\tremaining: 17m 3s\n",
            "12000:\tlearn: 0.9099756\ttest: 0.9660960\tbest: 0.9660950 (11999)\ttotal: 14m 34s\tremaining: 15m 47s\n",
            "13000:\tlearn: 0.9053394\ttest: 0.9660460\tbest: 0.9660262 (12726)\ttotal: 15m 44s\tremaining: 14m 32s\n",
            "14000:\tlearn: 0.9005459\ttest: 0.9659316\tbest: 0.9659087 (13856)\ttotal: 16m 55s\tremaining: 13m 17s\n",
            "bestTest = 0.9659086597\n",
            "bestIteration = 13856\n",
            "Shrink model to first 13857 iterations.\n"
          ],
          "name": "stdout"
        }
      ]
    },
    {
      "cell_type": "code",
      "metadata": {
        "id": "ACoArMtpALmw",
        "colab_type": "code",
        "colab": {}
      },
      "source": [
        "predictions = fit_model.predict(test)"
      ],
      "execution_count": 0,
      "outputs": []
    },
    {
      "cell_type": "code",
      "metadata": {
        "id": "JONAu1lIcmif",
        "colab_type": "code",
        "outputId": "b4cb63c9-30ac-4fa1-dfbe-d1ee49999569",
        "colab": {
          "base_uri": "https://localhost:8080/",
          "height": 204
        }
      },
      "source": [
        "sub_cat = sub.copy()\n",
        "sub_cat['amount_spent_per_room_night_scaled'] = predictions\n",
        "sub_cat.to_csv('catboost_pred.csv', index = False)\n",
        "sub_cat.head()"
      ],
      "execution_count": 0,
      "outputs": [
        {
          "output_type": "execute_result",
          "data": {
            "text/html": [
              "<div>\n",
              "<style scoped>\n",
              "    .dataframe tbody tr th:only-of-type {\n",
              "        vertical-align: middle;\n",
              "    }\n",
              "\n",
              "    .dataframe tbody tr th {\n",
              "        vertical-align: top;\n",
              "    }\n",
              "\n",
              "    .dataframe thead th {\n",
              "        text-align: right;\n",
              "    }\n",
              "</style>\n",
              "<table border=\"1\" class=\"dataframe\">\n",
              "  <thead>\n",
              "    <tr style=\"text-align: right;\">\n",
              "      <th></th>\n",
              "      <th>reservation_id</th>\n",
              "      <th>amount_spent_per_room_night_scaled</th>\n",
              "    </tr>\n",
              "  </thead>\n",
              "  <tbody>\n",
              "    <tr>\n",
              "      <th>0</th>\n",
              "      <td>7dae1ce6bc8f69481328f2be5c4943077dad5598b5f66d...</td>\n",
              "      <td>8.186866</td>\n",
              "    </tr>\n",
              "    <tr>\n",
              "      <th>1</th>\n",
              "      <td>fe0d4e444e1818436c88f72f1cf800536c2f785e59baeb...</td>\n",
              "      <td>7.475356</td>\n",
              "    </tr>\n",
              "    <tr>\n",
              "      <th>2</th>\n",
              "      <td>540bd4285ad8168e8388f84ee74a82cd4f97dc0a404d3e...</td>\n",
              "      <td>7.607371</td>\n",
              "    </tr>\n",
              "    <tr>\n",
              "      <th>3</th>\n",
              "      <td>09593c907ae262e46f655b4db9e14f54a19eadcfdd2679...</td>\n",
              "      <td>7.887794</td>\n",
              "    </tr>\n",
              "    <tr>\n",
              "      <th>4</th>\n",
              "      <td>f4c50caac68051faf37551d70bb17eebef2a20e2244cb1...</td>\n",
              "      <td>7.871251</td>\n",
              "    </tr>\n",
              "  </tbody>\n",
              "</table>\n",
              "</div>"
            ],
            "text/plain": [
              "                                      reservation_id  \\\n",
              "0  7dae1ce6bc8f69481328f2be5c4943077dad5598b5f66d...   \n",
              "1  fe0d4e444e1818436c88f72f1cf800536c2f785e59baeb...   \n",
              "2  540bd4285ad8168e8388f84ee74a82cd4f97dc0a404d3e...   \n",
              "3  09593c907ae262e46f655b4db9e14f54a19eadcfdd2679...   \n",
              "4  f4c50caac68051faf37551d70bb17eebef2a20e2244cb1...   \n",
              "\n",
              "   amount_spent_per_room_night_scaled  \n",
              "0                            8.186866  \n",
              "1                            7.475356  \n",
              "2                            7.607371  \n",
              "3                            7.887794  \n",
              "4                            7.871251  "
            ]
          },
          "metadata": {
            "tags": []
          },
          "execution_count": 82
        }
      ]
    },
    {
      "cell_type": "code",
      "metadata": {
        "id": "hUOeveS5elg6",
        "colab_type": "code",
        "outputId": "d56aa4a7-e44e-4b36-85bd-a62a92a82540",
        "colab": {
          "base_uri": "https://localhost:8080/",
          "height": 297
        }
      },
      "source": [
        "sub_cat.describe()"
      ],
      "execution_count": 0,
      "outputs": [
        {
          "output_type": "execute_result",
          "data": {
            "text/html": [
              "<div>\n",
              "<style scoped>\n",
              "    .dataframe tbody tr th:only-of-type {\n",
              "        vertical-align: middle;\n",
              "    }\n",
              "\n",
              "    .dataframe tbody tr th {\n",
              "        vertical-align: top;\n",
              "    }\n",
              "\n",
              "    .dataframe thead th {\n",
              "        text-align: right;\n",
              "    }\n",
              "</style>\n",
              "<table border=\"1\" class=\"dataframe\">\n",
              "  <thead>\n",
              "    <tr style=\"text-align: right;\">\n",
              "      <th></th>\n",
              "      <th>amount_spent_per_room_night_scaled</th>\n",
              "    </tr>\n",
              "  </thead>\n",
              "  <tbody>\n",
              "    <tr>\n",
              "      <th>count</th>\n",
              "      <td>146765.000000</td>\n",
              "    </tr>\n",
              "    <tr>\n",
              "      <th>mean</th>\n",
              "      <td>7.754966</td>\n",
              "    </tr>\n",
              "    <tr>\n",
              "      <th>std</th>\n",
              "      <td>0.495519</td>\n",
              "    </tr>\n",
              "    <tr>\n",
              "      <th>min</th>\n",
              "      <td>5.971099</td>\n",
              "    </tr>\n",
              "    <tr>\n",
              "      <th>25%</th>\n",
              "      <td>7.416364</td>\n",
              "    </tr>\n",
              "    <tr>\n",
              "      <th>50%</th>\n",
              "      <td>7.727817</td>\n",
              "    </tr>\n",
              "    <tr>\n",
              "      <th>75%</th>\n",
              "      <td>8.063670</td>\n",
              "    </tr>\n",
              "    <tr>\n",
              "      <th>max</th>\n",
              "      <td>10.196219</td>\n",
              "    </tr>\n",
              "  </tbody>\n",
              "</table>\n",
              "</div>"
            ],
            "text/plain": [
              "       amount_spent_per_room_night_scaled\n",
              "count                       146765.000000\n",
              "mean                             7.754966\n",
              "std                              0.495519\n",
              "min                              5.971099\n",
              "25%                              7.416364\n",
              "50%                              7.727817\n",
              "75%                              8.063670\n",
              "max                             10.196219"
            ]
          },
          "metadata": {
            "tags": []
          },
          "execution_count": 83
        }
      ]
    },
    {
      "cell_type": "markdown",
      "metadata": {
        "id": "wDAkUedLyUdJ",
        "colab_type": "text"
      },
      "source": [
        "#### Feature Importance"
      ]
    },
    {
      "cell_type": "code",
      "metadata": {
        "id": "WkZDWwm0J-1q",
        "colab_type": "code",
        "outputId": "37a40d0a-e6c5-4a30-8c89-af2f5d48de07",
        "colab": {
          "base_uri": "https://localhost:8080/",
          "height": 1382
        }
      },
      "source": [
        "## Top 10 features\n",
        "fimp = pd.DataFrame.from_dict({'Columns':fit_model.feature_names_,'Value':fit_model.feature_importances_})\n",
        "fimp = fimp.sort_values(by = 'Value', ascending = False)\n",
        "fimp.head()"
      ],
      "execution_count": 0,
      "outputs": [
        {
          "output_type": "execute_result",
          "data": {
            "text/html": [
              "<div>\n",
              "<style scoped>\n",
              "    .dataframe tbody tr th:only-of-type {\n",
              "        vertical-align: middle;\n",
              "    }\n",
              "\n",
              "    .dataframe tbody tr th {\n",
              "        vertical-align: top;\n",
              "    }\n",
              "\n",
              "    .dataframe thead th {\n",
              "        text-align: right;\n",
              "    }\n",
              "</style>\n",
              "<table border=\"1\" class=\"dataframe\">\n",
              "  <thead>\n",
              "    <tr style=\"text-align: right;\">\n",
              "      <th></th>\n",
              "      <th>Columns</th>\n",
              "      <th>Value</th>\n",
              "    </tr>\n",
              "  </thead>\n",
              "  <tbody>\n",
              "    <tr>\n",
              "      <th>27</th>\n",
              "      <td>length_of_stay</td>\n",
              "      <td>11.630622</td>\n",
              "    </tr>\n",
              "    <tr>\n",
              "      <th>8</th>\n",
              "      <td>roomnights</td>\n",
              "      <td>8.090799</td>\n",
              "    </tr>\n",
              "    <tr>\n",
              "      <th>17</th>\n",
              "      <td>resort_id</td>\n",
              "      <td>7.571421</td>\n",
              "    </tr>\n",
              "    <tr>\n",
              "      <th>25</th>\n",
              "      <td>total_nbr_ppl</td>\n",
              "      <td>5.909815</td>\n",
              "    </tr>\n",
              "    <tr>\n",
              "      <th>12</th>\n",
              "      <td>total_pax</td>\n",
              "      <td>5.031613</td>\n",
              "    </tr>\n",
              "    <tr>\n",
              "      <th>4</th>\n",
              "      <td>persontravellingid</td>\n",
              "      <td>4.844285</td>\n",
              "    </tr>\n",
              "    <tr>\n",
              "      <th>10</th>\n",
              "      <td>state_code_residence</td>\n",
              "      <td>3.483706</td>\n",
              "    </tr>\n",
              "    <tr>\n",
              "      <th>1</th>\n",
              "      <td>main_product_code</td>\n",
              "      <td>3.193469</td>\n",
              "    </tr>\n",
              "    <tr>\n",
              "      <th>41</th>\n",
              "      <td>avg_numberofadults</td>\n",
              "      <td>2.729273</td>\n",
              "    </tr>\n",
              "    <tr>\n",
              "      <th>13</th>\n",
              "      <td>member_age_buckets</td>\n",
              "      <td>2.617151</td>\n",
              "    </tr>\n",
              "    <tr>\n",
              "      <th>31</th>\n",
              "      <td>checking_month</td>\n",
              "      <td>2.293679</td>\n",
              "    </tr>\n",
              "    <tr>\n",
              "      <th>24</th>\n",
              "      <td>booking_Dayofyear</td>\n",
              "      <td>2.194657</td>\n",
              "    </tr>\n",
              "    <tr>\n",
              "      <th>11</th>\n",
              "      <td>state_code_resort</td>\n",
              "      <td>2.112748</td>\n",
              "    </tr>\n",
              "    <tr>\n",
              "      <th>26</th>\n",
              "      <td>prior_booking</td>\n",
              "      <td>2.051717</td>\n",
              "    </tr>\n",
              "    <tr>\n",
              "      <th>40</th>\n",
              "      <td>avg_stay_days</td>\n",
              "      <td>2.049111</td>\n",
              "    </tr>\n",
              "    <tr>\n",
              "      <th>32</th>\n",
              "      <td>checking_day</td>\n",
              "      <td>2.042523</td>\n",
              "    </tr>\n",
              "    <tr>\n",
              "      <th>38</th>\n",
              "      <td>nbr_booking</td>\n",
              "      <td>1.847443</td>\n",
              "    </tr>\n",
              "    <tr>\n",
              "      <th>42</th>\n",
              "      <td>avg_total_nbr_ppl</td>\n",
              "      <td>1.820273</td>\n",
              "    </tr>\n",
              "    <tr>\n",
              "      <th>30</th>\n",
              "      <td>checking_year</td>\n",
              "      <td>1.754191</td>\n",
              "    </tr>\n",
              "    <tr>\n",
              "      <th>2</th>\n",
              "      <td>numberofadults</td>\n",
              "      <td>1.735453</td>\n",
              "    </tr>\n",
              "    <tr>\n",
              "      <th>18</th>\n",
              "      <td>booking_year</td>\n",
              "      <td>1.697750</td>\n",
              "    </tr>\n",
              "    <tr>\n",
              "      <th>39</th>\n",
              "      <td>total_stay_days</td>\n",
              "      <td>1.664754</td>\n",
              "    </tr>\n",
              "    <tr>\n",
              "      <th>28</th>\n",
              "      <td>prior_booking_week</td>\n",
              "      <td>1.619816</td>\n",
              "    </tr>\n",
              "    <tr>\n",
              "      <th>21</th>\n",
              "      <td>booking_Day</td>\n",
              "      <td>1.552630</td>\n",
              "    </tr>\n",
              "    <tr>\n",
              "      <th>0</th>\n",
              "      <td>channel_code</td>\n",
              "      <td>1.495736</td>\n",
              "    </tr>\n",
              "    <tr>\n",
              "      <th>20</th>\n",
              "      <td>booking_Week</td>\n",
              "      <td>1.434753</td>\n",
              "    </tr>\n",
              "    <tr>\n",
              "      <th>33</th>\n",
              "      <td>checking_weekday</td>\n",
              "      <td>1.434632</td>\n",
              "    </tr>\n",
              "    <tr>\n",
              "      <th>9</th>\n",
              "      <td>season_holidayed_code</td>\n",
              "      <td>1.377576</td>\n",
              "    </tr>\n",
              "    <tr>\n",
              "      <th>7</th>\n",
              "      <td>room_type_booked_code</td>\n",
              "      <td>1.344024</td>\n",
              "    </tr>\n",
              "    <tr>\n",
              "      <th>5</th>\n",
              "      <td>resort_region_code</td>\n",
              "      <td>1.304153</td>\n",
              "    </tr>\n",
              "    <tr>\n",
              "      <th>19</th>\n",
              "      <td>booking_month</td>\n",
              "      <td>1.210227</td>\n",
              "    </tr>\n",
              "    <tr>\n",
              "      <th>6</th>\n",
              "      <td>resort_type_code</td>\n",
              "      <td>1.202954</td>\n",
              "    </tr>\n",
              "    <tr>\n",
              "      <th>15</th>\n",
              "      <td>cluster_code</td>\n",
              "      <td>1.167763</td>\n",
              "    </tr>\n",
              "    <tr>\n",
              "      <th>23</th>\n",
              "      <td>booking_dayofweek</td>\n",
              "      <td>1.140567</td>\n",
              "    </tr>\n",
              "    <tr>\n",
              "      <th>29</th>\n",
              "      <td>prior_booking_month</td>\n",
              "      <td>0.802819</td>\n",
              "    </tr>\n",
              "    <tr>\n",
              "      <th>14</th>\n",
              "      <td>booking_type_code</td>\n",
              "      <td>0.763542</td>\n",
              "    </tr>\n",
              "    <tr>\n",
              "      <th>35</th>\n",
              "      <td>is_year_start_checkin</td>\n",
              "      <td>0.744252</td>\n",
              "    </tr>\n",
              "    <tr>\n",
              "      <th>16</th>\n",
              "      <td>reservationstatusid_code</td>\n",
              "      <td>0.705013</td>\n",
              "    </tr>\n",
              "    <tr>\n",
              "      <th>3</th>\n",
              "      <td>numberofchildren</td>\n",
              "      <td>0.658344</td>\n",
              "    </tr>\n",
              "    <tr>\n",
              "      <th>34</th>\n",
              "      <td>is_year_end_checkin</td>\n",
              "      <td>0.644744</td>\n",
              "    </tr>\n",
              "    <tr>\n",
              "      <th>22</th>\n",
              "      <td>booking_weeknum</td>\n",
              "      <td>0.515007</td>\n",
              "    </tr>\n",
              "    <tr>\n",
              "      <th>36</th>\n",
              "      <td>is_month_end_checkin</td>\n",
              "      <td>0.280991</td>\n",
              "    </tr>\n",
              "    <tr>\n",
              "      <th>37</th>\n",
              "      <td>is_month_start_checkin</td>\n",
              "      <td>0.234002</td>\n",
              "    </tr>\n",
              "  </tbody>\n",
              "</table>\n",
              "</div>"
            ],
            "text/plain": [
              "                     Columns      Value\n",
              "27            length_of_stay  11.630622\n",
              "8                 roomnights   8.090799\n",
              "17                 resort_id   7.571421\n",
              "25             total_nbr_ppl   5.909815\n",
              "12                 total_pax   5.031613\n",
              "4         persontravellingid   4.844285\n",
              "10      state_code_residence   3.483706\n",
              "1          main_product_code   3.193469\n",
              "41        avg_numberofadults   2.729273\n",
              "13        member_age_buckets   2.617151\n",
              "31            checking_month   2.293679\n",
              "24         booking_Dayofyear   2.194657\n",
              "11         state_code_resort   2.112748\n",
              "26             prior_booking   2.051717\n",
              "40             avg_stay_days   2.049111\n",
              "32              checking_day   2.042523\n",
              "38               nbr_booking   1.847443\n",
              "42         avg_total_nbr_ppl   1.820273\n",
              "30             checking_year   1.754191\n",
              "2             numberofadults   1.735453\n",
              "18              booking_year   1.697750\n",
              "39           total_stay_days   1.664754\n",
              "28        prior_booking_week   1.619816\n",
              "21               booking_Day   1.552630\n",
              "0               channel_code   1.495736\n",
              "20              booking_Week   1.434753\n",
              "33          checking_weekday   1.434632\n",
              "9      season_holidayed_code   1.377576\n",
              "7      room_type_booked_code   1.344024\n",
              "5         resort_region_code   1.304153\n",
              "19             booking_month   1.210227\n",
              "6           resort_type_code   1.202954\n",
              "15              cluster_code   1.167763\n",
              "23         booking_dayofweek   1.140567\n",
              "29       prior_booking_month   0.802819\n",
              "14         booking_type_code   0.763542\n",
              "35     is_year_start_checkin   0.744252\n",
              "16  reservationstatusid_code   0.705013\n",
              "3           numberofchildren   0.658344\n",
              "34       is_year_end_checkin   0.644744\n",
              "22           booking_weeknum   0.515007\n",
              "36      is_month_end_checkin   0.280991\n",
              "37    is_month_start_checkin   0.234002"
            ]
          },
          "metadata": {
            "tags": []
          },
          "execution_count": 84
        }
      ]
    },
    {
      "cell_type": "markdown",
      "metadata": {
        "id": "JctQzR1XAysx",
        "colab_type": "text"
      },
      "source": [
        "## LightGBM Regressor"
      ]
    },
    {
      "cell_type": "code",
      "metadata": {
        "id": "BABlEdAJKuSS",
        "colab_type": "code",
        "colab": {}
      },
      "source": [
        "lgb_train = df_train.copy()\n",
        "lgb_test = df_test.copy()"
      ],
      "execution_count": 0,
      "outputs": []
    },
    {
      "cell_type": "code",
      "metadata": {
        "id": "S3TXpT-5KttY",
        "colab_type": "code",
        "colab": {}
      },
      "source": [
        "x_train,x_test,y_train,y_test = train_test_split(lgb_train.drop('amount_spent_per_room_night_scaled',1), lgb_train.amount_spent_per_room_night_scaled, test_size = 0.2,\n",
        "                                                random_state = 42)"
      ],
      "execution_count": 0,
      "outputs": []
    },
    {
      "cell_type": "code",
      "metadata": {
        "id": "PYHBViwkAyVY",
        "colab_type": "code",
        "colab": {}
      },
      "source": [
        "# Model parameters\n",
        "lgb_params = {\n",
        "    \"objective\" : \"regression\",\n",
        "    \"metric\" : \"rmse\",\n",
        "    \"boosting\": 'gbdt',\n",
        "    \"max_depth\" : 8,\n",
        "    \"sub_sample\":0.8,\n",
        "    \"num_leaves\" : 31,\n",
        "    \"learning_rate\" : 0.01,\n",
        "    \"seed\": 42}"
      ],
      "execution_count": 0,
      "outputs": []
    },
    {
      "cell_type": "code",
      "metadata": {
        "id": "djWuAgq65Lay",
        "colab_type": "code",
        "colab": {}
      },
      "source": [
        "lgb_categ_columns = ['channel_code', 'main_product_code', 'persontravellingid', 'resort_region_code','resort_type_code', 'room_type_booked_code',\n",
        "                     'season_holidayed_code', 'state_code_residence', 'state_code_resort','booking_type_code','booking_year', 'booking_month',\n",
        "                     'booking_Week', 'booking_Day','booking_weeknum', 'booking_dayofweek', 'booking_Dayofyear','checking_year','checking_month', \n",
        "                     'checking_day', 'is_year_end_checkin','is_year_start_checkin', 'is_month_end_checkin','is_month_start_checkin']"
      ],
      "execution_count": 0,
      "outputs": []
    },
    {
      "cell_type": "code",
      "metadata": {
        "id": "JnL4zN1hKfK5",
        "colab_type": "code",
        "colab": {}
      },
      "source": [
        "trn_data = lgb.Dataset(x_train, label=y_train,categorical_feature= lgb_categ_columns)\n",
        "val_data = lgb.Dataset(x_test, label=y_test,categorical_feature= lgb_categ_columns)"
      ],
      "execution_count": 0,
      "outputs": []
    },
    {
      "cell_type": "code",
      "metadata": {
        "id": "0bCzjIMhKg5e",
        "colab_type": "code",
        "outputId": "80a2f40e-1a1c-46d9-c928-62fe05d89499",
        "colab": {
          "base_uri": "https://localhost:8080/",
          "height": 136
        }
      },
      "source": [
        "clf = lgb.train(lgb_params, trn_data, num_boost_round= 20000, valid_sets = [trn_data, val_data], verbose_eval=500, \n",
        "                early_stopping_rounds = 500)"
      ],
      "execution_count": 0,
      "outputs": [
        {
          "output_type": "stream",
          "text": [
            "Training until validation scores don't improve for 1200 rounds.\n",
            "[500]\ttraining's rmse: 0.964933\tvalid_1's rmse: 0.9914\n",
            "[1000]\ttraining's rmse: 0.941869\tvalid_1's rmse: 0.987998\n",
            "[1500]\ttraining's rmse: 0.927305\tvalid_1's rmse: 0.988365\n",
            "[2000]\ttraining's rmse: 0.916259\tvalid_1's rmse: 0.989363\n",
            "Early stopping, best iteration is:\n",
            "[1138]\ttraining's rmse: 0.937407\tvalid_1's rmse: 0.98796\n"
          ],
          "name": "stdout"
        }
      ]
    },
    {
      "cell_type": "code",
      "metadata": {
        "id": "h26dHJ_aLWuY",
        "colab_type": "code",
        "colab": {}
      },
      "source": [
        "pred_lgb = clf.predict(lgb_test, num_iteration=clf.best_iteration)"
      ],
      "execution_count": 0,
      "outputs": []
    },
    {
      "cell_type": "code",
      "metadata": {
        "id": "axW8Uzg1LYVQ",
        "colab_type": "code",
        "outputId": "1eb67be2-b47b-43f9-d02f-2eb1e9b1a330",
        "colab": {
          "base_uri": "https://localhost:8080/",
          "height": 204
        }
      },
      "source": [
        "sub_lgb = sub.copy()\n",
        "sub_lgb[\"amount_spent_per_room_night_scaled\"] = pred_lgb\n",
        "sub_lgb.to_csv(\"submission_lgb.csv\", index=False)\n",
        "sub_lgb.head()"
      ],
      "execution_count": 0,
      "outputs": [
        {
          "output_type": "execute_result",
          "data": {
            "text/html": [
              "<div>\n",
              "<style scoped>\n",
              "    .dataframe tbody tr th:only-of-type {\n",
              "        vertical-align: middle;\n",
              "    }\n",
              "\n",
              "    .dataframe tbody tr th {\n",
              "        vertical-align: top;\n",
              "    }\n",
              "\n",
              "    .dataframe thead th {\n",
              "        text-align: right;\n",
              "    }\n",
              "</style>\n",
              "<table border=\"1\" class=\"dataframe\">\n",
              "  <thead>\n",
              "    <tr style=\"text-align: right;\">\n",
              "      <th></th>\n",
              "      <th>reservation_id</th>\n",
              "      <th>amount_spent_per_room_night_scaled</th>\n",
              "    </tr>\n",
              "  </thead>\n",
              "  <tbody>\n",
              "    <tr>\n",
              "      <th>0</th>\n",
              "      <td>7dae1ce6bc8f69481328f2be5c4943077dad5598b5f66d...</td>\n",
              "      <td>8.172590</td>\n",
              "    </tr>\n",
              "    <tr>\n",
              "      <th>1</th>\n",
              "      <td>fe0d4e444e1818436c88f72f1cf800536c2f785e59baeb...</td>\n",
              "      <td>7.429915</td>\n",
              "    </tr>\n",
              "    <tr>\n",
              "      <th>2</th>\n",
              "      <td>540bd4285ad8168e8388f84ee74a82cd4f97dc0a404d3e...</td>\n",
              "      <td>7.635920</td>\n",
              "    </tr>\n",
              "    <tr>\n",
              "      <th>3</th>\n",
              "      <td>09593c907ae262e46f655b4db9e14f54a19eadcfdd2679...</td>\n",
              "      <td>7.642648</td>\n",
              "    </tr>\n",
              "    <tr>\n",
              "      <th>4</th>\n",
              "      <td>f4c50caac68051faf37551d70bb17eebef2a20e2244cb1...</td>\n",
              "      <td>7.781631</td>\n",
              "    </tr>\n",
              "  </tbody>\n",
              "</table>\n",
              "</div>"
            ],
            "text/plain": [
              "                                      reservation_id  \\\n",
              "0  7dae1ce6bc8f69481328f2be5c4943077dad5598b5f66d...   \n",
              "1  fe0d4e444e1818436c88f72f1cf800536c2f785e59baeb...   \n",
              "2  540bd4285ad8168e8388f84ee74a82cd4f97dc0a404d3e...   \n",
              "3  09593c907ae262e46f655b4db9e14f54a19eadcfdd2679...   \n",
              "4  f4c50caac68051faf37551d70bb17eebef2a20e2244cb1...   \n",
              "\n",
              "   amount_spent_per_room_night_scaled  \n",
              "0                            8.172590  \n",
              "1                            7.429915  \n",
              "2                            7.635920  \n",
              "3                            7.642648  \n",
              "4                            7.781631  "
            ]
          },
          "metadata": {
            "tags": []
          },
          "execution_count": 75
        }
      ]
    },
    {
      "cell_type": "code",
      "metadata": {
        "id": "dIDh2-KNL4HC",
        "colab_type": "code",
        "outputId": "8d3a8c9d-336f-4e58-8bba-4b6fdc47e953",
        "colab": {
          "base_uri": "https://localhost:8080/",
          "height": 297
        }
      },
      "source": [
        "sub_lgb.describe()"
      ],
      "execution_count": 0,
      "outputs": [
        {
          "output_type": "execute_result",
          "data": {
            "text/html": [
              "<div>\n",
              "<style scoped>\n",
              "    .dataframe tbody tr th:only-of-type {\n",
              "        vertical-align: middle;\n",
              "    }\n",
              "\n",
              "    .dataframe tbody tr th {\n",
              "        vertical-align: top;\n",
              "    }\n",
              "\n",
              "    .dataframe thead th {\n",
              "        text-align: right;\n",
              "    }\n",
              "</style>\n",
              "<table border=\"1\" class=\"dataframe\">\n",
              "  <thead>\n",
              "    <tr style=\"text-align: right;\">\n",
              "      <th></th>\n",
              "      <th>amount_spent_per_room_night_scaled</th>\n",
              "    </tr>\n",
              "  </thead>\n",
              "  <tbody>\n",
              "    <tr>\n",
              "      <th>count</th>\n",
              "      <td>146765.000000</td>\n",
              "    </tr>\n",
              "    <tr>\n",
              "      <th>mean</th>\n",
              "      <td>7.722577</td>\n",
              "    </tr>\n",
              "    <tr>\n",
              "      <th>std</th>\n",
              "      <td>0.460222</td>\n",
              "    </tr>\n",
              "    <tr>\n",
              "      <th>min</th>\n",
              "      <td>5.809319</td>\n",
              "    </tr>\n",
              "    <tr>\n",
              "      <th>25%</th>\n",
              "      <td>7.404219</td>\n",
              "    </tr>\n",
              "    <tr>\n",
              "      <th>50%</th>\n",
              "      <td>7.706334</td>\n",
              "    </tr>\n",
              "    <tr>\n",
              "      <th>75%</th>\n",
              "      <td>8.017533</td>\n",
              "    </tr>\n",
              "    <tr>\n",
              "      <th>max</th>\n",
              "      <td>9.644610</td>\n",
              "    </tr>\n",
              "  </tbody>\n",
              "</table>\n",
              "</div>"
            ],
            "text/plain": [
              "       amount_spent_per_room_night_scaled\n",
              "count                       146765.000000\n",
              "mean                             7.722577\n",
              "std                              0.460222\n",
              "min                              5.809319\n",
              "25%                              7.404219\n",
              "50%                              7.706334\n",
              "75%                              8.017533\n",
              "max                              9.644610"
            ]
          },
          "metadata": {
            "tags": []
          },
          "execution_count": 76
        }
      ]
    },
    {
      "cell_type": "markdown",
      "metadata": {
        "id": "S84vtvjMmJr0",
        "colab_type": "text"
      },
      "source": [
        "## K-Fold Cross Validation"
      ]
    },
    {
      "cell_type": "code",
      "metadata": {
        "id": "-zs5ydDBmJUN",
        "colab_type": "code",
        "colab": {}
      },
      "source": [
        " def run_cat(model,  trt, tst, tar,n_splits=10, plot=False):   \n",
        "    kf = KFold(n_splits=n_splits, random_state=320, shuffle=True)\n",
        "    oof = np.zeros(len(trt))\n",
        "    feature_importance_df = pd.DataFrame()\n",
        "    y_valid_pred = 0 * tar\n",
        "    y_test_pred = 0\n",
        "    for n_fold, (train_index, valid_index) in enumerate(kf.split(trt, tar)):\n",
        "        y_train, y_valid = tar.iloc[train_index], tar.iloc[valid_index]\n",
        "        X_train, X_valid = trt.iloc[train_index,:], trt.iloc[valid_index,:]\n",
        "        _train = Pool(X_train, label=y_train,cat_features= categ_column)\n",
        "        _valid = Pool(X_valid, label=y_valid,cat_features= categ_column)\n",
        "        print( \"Fold \", n_fold)\n",
        "        fit_model = model.fit(_train,\n",
        "                              verbose_eval=1000, \n",
        "                              early_stopping_rounds=500,\n",
        "                              eval_set=[_valid],\n",
        "                              use_best_model=True,\n",
        "                              plot=False,\n",
        "                                            \n",
        "                             )\n",
        "        pred = fit_model.predict(X_valid)\n",
        "        oof[valid_index] = pred\n",
        "        print( \"RMSE = \",np.sqrt( mean_squared_error(y_valid, pred)))\n",
        "        y_valid_pred.iloc[valid_index] = pred\n",
        "        y_test_pred += fit_model.predict(tst)\n",
        "    y_test_pred /= n_splits\n",
        "    print(\"Average RMSE:\", np.sqrt(mean_squared_error(tar, oof)))\n",
        "    return y_test_pred, oof"
      ],
      "execution_count": 0,
      "outputs": []
    },
    {
      "cell_type": "code",
      "metadata": {
        "id": "kj44gmOImuuQ",
        "colab_type": "code",
        "colab": {}
      },
      "source": [
        "cat_train = train.drop('amount_spent_per_room_night_scaled',axis =1)\n",
        "cat_target = train.amount_spent_per_room_night_scaled\n",
        "cat_test = test.copy()"
      ],
      "execution_count": 0,
      "outputs": []
    },
    {
      "cell_type": "code",
      "metadata": {
        "id": "iQCihLp3m0oS",
        "colab_type": "code",
        "colab": {}
      },
      "source": [
        "y_test_pred, oof = run_cat(model,cat_train, cat_test, cat_target)"
      ],
      "execution_count": 0,
      "outputs": []
    },
    {
      "cell_type": "code",
      "metadata": {
        "id": "cqMHKgCIm23x",
        "colab_type": "code",
        "colab": {}
      },
      "source": [
        "sub_df = sub.copy()\n",
        "sub_df[\"amount_spent_per_room_night_scaled\"] = y_test_pred\n",
        "sub_df.to_csv(\"submission_kfold.csv\", index=False)\n",
        "sub_df.head()"
      ],
      "execution_count": 0,
      "outputs": []
    },
    {
      "cell_type": "code",
      "metadata": {
        "id": "F1EjXJN0ElKu",
        "colab_type": "code",
        "colab": {}
      },
      "source": [
        "sub_df.describe()"
      ],
      "execution_count": 0,
      "outputs": []
    },
    {
      "cell_type": "markdown",
      "metadata": {
        "id": "7n4Rk1gLysRL",
        "colab_type": "text"
      },
      "source": [
        "## K -fold Public LB : 0.9606\n",
        "\n",
        "Averaging Catboost K-fold and Lightgbm gives **0.9603 on Public LB   and 0.9709 on Prival LB**\n",
        "\n",
        "### Summary:\n",
        "\n"
      ]
    }
  ]
}